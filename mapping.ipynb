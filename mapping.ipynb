{
 "cells": [
  {
   "cell_type": "markdown",
   "metadata": {},
   "source": [
    "## This notebook is a test of the functions contained in the file `utils.py`"
   ]
  },
  {
   "cell_type": "code",
   "execution_count": 1,
   "metadata": {},
   "outputs": [],
   "source": [
    "from utils import *"
   ]
  },
  {
   "cell_type": "code",
   "execution_count": 2,
   "metadata": {},
   "outputs": [
    {
     "name": "stdout",
     "output_type": "stream",
     "text": [
      "\n",
      "cleaning data ...\n",
      "\n"
     ]
    }
   ],
   "source": [
    "config = load_config(\"config.json\")\n",
    "print(\"\\ncleaning data ...\\n\")\n",
    "data = clean_data(config[\"clean_data\"][\"input\"], config[\"clean_data\"][\"output\"])\n",
    "print(\"\\nsplitting dataset ...\\n\")\n",
    "split_dataset(\n",
    "    config[\"split_dataset\"][\"dataset_path\"],\n",
    "    config[\"split_dataset\"][\"n_chunks\"],\n",
    "    config[\"split_dataset\"][\"output_dir\"],\n",
    ")\n",
    "print(\"\\nMapping data ...\\n\")\n",
    "mapping(\n",
    "    config[\"mapping\"][\"csv_path\"],\n",
    "    config[\"mapping\"][\"rml_path\"],\n",
    "    config[\"mapping\"][\"output_path\"],\n",
    "    config[\"mapping\"][\"mapper_path\"],\n",
    ")\n",
    "print(\"\\nuploading data ...\\n\")\n",
    "\n",
    "upload_rdf_data_to_graphdb(\n",
    "    config[\"upload_to_graphDB\"][\"rdf_file_path\"],\n",
    "    config[\"upload_to_graphDB\"][\"graphDB_url\"],\n",
    "    config[\"upload_to_graphDB\"][\"graphDB_repo\"],\n",
    "    config[\"upload_to_graphDB\"][\"graphDB_kg\"],\n",
    ")\n",
    "\n",
    "\n",
    "\n"
   ]
  }
 ],
 "metadata": {
  "kernelspec": {
   "display_name": "Python 3",
   "language": "python",
   "name": "python3"
  },
  "language_info": {
   "codemirror_mode": {
    "name": "ipython",
    "version": 3
   },
   "file_extension": ".py",
   "mimetype": "text/x-python",
   "name": "python",
   "nbconvert_exporter": "python",
   "pygments_lexer": "ipython3",
   "version": "3.12.3"
  }
 },
 "nbformat": 4,
 "nbformat_minor": 2
}
